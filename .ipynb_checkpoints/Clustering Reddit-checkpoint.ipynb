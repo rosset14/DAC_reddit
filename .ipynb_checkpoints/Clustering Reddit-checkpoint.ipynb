{
 "cells": [
  {
   "cell_type": "markdown",
   "metadata": {},
   "source": [
    "Projet de Données à la Connaissance\n",
    "======\n",
    "\n",
    "## Introduction\n",
    "\n",
    "## Choix de l'algorithme de clustering\n",
    "DBSCAN \n",
    "raison du choix :\n",
    "- Non-flat geometry, \n",
    "- uneven cluster sizes\n",
    "- Très scalable\n",
    "- Nombre de clusters inconnus (vs K-means)"
   ]
  },
  {
   "cell_type": "code",
   "execution_count": 5,
   "metadata": {},
   "outputs": [],
   "source": [
    "import pandas as pd # Ouverture des données\n",
    "import numpy as np \n",
    "import gensim # Pour lire word2vec\n",
    "import math"
   ]
  },
  {
   "cell_type": "markdown",
   "metadata": {},
   "source": [
    "# Ouverture des données"
   ]
  },
  {
   "cell_type": "code",
   "execution_count": 6,
   "metadata": {},
   "outputs": [
    {
     "name": "stdout",
     "output_type": "stream",
     "text": [
      "Posts loaded into dataframe\n",
      "Comments loaded into dataframe\n"
     ]
    }
   ],
   "source": [
    "df_posts=pd.read_csv(\"data/reddit_posts.csv\",sep=\";\", names=['Id','UserName','SubReddit','Title','Body'], header=None)\n",
    "print(\"Posts loaded into dataframe\")\n",
    "df_comments=pd.read_csv(\"data/reddit_comments.csv\",sep=\";\", names=['UserName','SubReddit','Comment'], header=None, nrows=10000000)\n",
    "print(\"Comments loaded into dataframe\")"
   ]
  },
  {
   "cell_type": "code",
   "execution_count": 4,
   "metadata": {},
   "outputs": [
    {
     "data": {
      "text/html": [
       "<div>\n",
       "<style>\n",
       "    .dataframe thead tr:only-child th {\n",
       "        text-align: right;\n",
       "    }\n",
       "\n",
       "    .dataframe thead th {\n",
       "        text-align: left;\n",
       "    }\n",
       "\n",
       "    .dataframe tbody tr th {\n",
       "        vertical-align: top;\n",
       "    }\n",
       "</style>\n",
       "<table border=\"1\" class=\"dataframe\">\n",
       "  <thead>\n",
       "    <tr style=\"text-align: right;\">\n",
       "      <th></th>\n",
       "      <th>Id</th>\n",
       "      <th>UserName</th>\n",
       "      <th>SubReddit</th>\n",
       "      <th>Title</th>\n",
       "      <th>Body</th>\n",
       "    </tr>\n",
       "  </thead>\n",
       "  <tbody>\n",
       "    <tr>\n",
       "      <th>0</th>\n",
       "      <td>1</td>\n",
       "      <td>SRASC</td>\n",
       "      <td>Honda</td>\n",
       "      <td>The new S2000?</td>\n",
       "      <td>NaN</td>\n",
       "    </tr>\n",
       "    <tr>\n",
       "      <th>1</th>\n",
       "      <td>3</td>\n",
       "      <td>JRabone</td>\n",
       "      <td>Patriots</td>\n",
       "      <td>I made a video for SB LI supporting our Pats!</td>\n",
       "      <td>NaN</td>\n",
       "    </tr>\n",
       "    <tr>\n",
       "      <th>2</th>\n",
       "      <td>4</td>\n",
       "      <td>adamorn</td>\n",
       "      <td>AskReddit</td>\n",
       "      <td>Trump supporters - Do you feel that he is doin...</td>\n",
       "      <td>[removed]</td>\n",
       "    </tr>\n",
       "    <tr>\n",
       "      <th>3</th>\n",
       "      <td>5</td>\n",
       "      <td>JakeM917</td>\n",
       "      <td>doctorwho</td>\n",
       "      <td>The 13th Doctor we deserve</td>\n",
       "      <td>NaN</td>\n",
       "    </tr>\n",
       "    <tr>\n",
       "      <th>4</th>\n",
       "      <td>10</td>\n",
       "      <td>DataScienceInc</td>\n",
       "      <td>pystats</td>\n",
       "      <td>Introduction to Correlation</td>\n",
       "      <td>NaN</td>\n",
       "    </tr>\n",
       "  </tbody>\n",
       "</table>\n",
       "</div>"
      ],
      "text/plain": [
       "   Id        UserName  SubReddit  \\\n",
       "0   1           SRASC      Honda   \n",
       "1   3         JRabone   Patriots   \n",
       "2   4         adamorn  AskReddit   \n",
       "3   5        JakeM917  doctorwho   \n",
       "4  10  DataScienceInc    pystats   \n",
       "\n",
       "                                               Title       Body  \n",
       "0                                     The new S2000?        NaN  \n",
       "1      I made a video for SB LI supporting our Pats!        NaN  \n",
       "2  Trump supporters - Do you feel that he is doin...  [removed]  \n",
       "3                         The 13th Doctor we deserve        NaN  \n",
       "4                        Introduction to Correlation        NaN  "
      ]
     },
     "execution_count": 4,
     "metadata": {},
     "output_type": "execute_result"
    }
   ],
   "source": [
    "df_posts.head()\n",
    "#df_comments.head()"
   ]
  },
  {
   "cell_type": "code",
   "execution_count": 19,
   "metadata": {
    "collapsed": true
   },
   "outputs": [],
   "source": [
    "word2vec = gensim.models.KeyedVectors.load_word2vec_format(\"data/GoogleNews-vectors-negative300.bin.gz\", binary=True)"
   ]
  },
  {
   "cell_type": "markdown",
   "metadata": {},
   "source": [
    "# Première approche : Clustering des SubReddits par NLP"
   ]
  },
  {
   "cell_type": "code",
   "execution_count": null,
   "metadata": {
    "collapsed": true
   },
   "outputs": [],
   "source": [
    "import nltk\n",
    "\n",
    "stop_words = set(stopwords.words('english'))"
   ]
  },
  {
   "cell_type": "markdown",
   "metadata": {},
   "source": [
    "# Deuxième approche : Clustering des SubReddits par Utilisateurs"
   ]
  },
  {
   "cell_type": "code",
   "execution_count": 7,
   "metadata": {
    "collapsed": true
   },
   "outputs": [],
   "source": [
    "df_posts_dropped = df_posts.drop(labels=['Title', 'Body'], axis=1)\n",
    "df_comments_dropped = df_comments.drop(labels='Comment', axis=1)\n",
    "\n",
    "users = df_posts_dropped[\"UserName\"].append(df_comments_dropped[\"UserName\"])\n",
    "users.drop_duplicates(inplace=True)\n",
    "nb_users = len(users)\n",
    "\n",
    "subreddits = df_posts_dropped[\"SubReddit\"].append(df_comments_dropped[\"SubReddit\"])\n",
    "subreddits.drop_duplicates(inplace=True)\n",
    "nb_subreddits = len(subreddits)\n",
    "\n"
   ]
  },
  {
   "cell_type": "code",
   "execution_count": 8,
   "metadata": {},
   "outputs": [
    {
     "name": "stdout",
     "output_type": "stream",
     "text": [
      "started\n",
      "UserName              SubReddit           \n",
      "--------------_----_  Invites                  1\n",
      "----------J_Peterman  AskReddit                1\n",
      "----------_----       AskHistorians            1\n",
      "----------_-_-        Shitty_Car_Mods          1\n",
      "--------__--------    Winnipeg                 1\n",
      "-------jem            excel                    1\n",
      "------_-_-_----       CasualConversation       1\n",
      "                      Strawpolls               1\n",
      "                      Voting                   1\n",
      "-----_------_---      Tinder                   1\n",
      "                      civ_memes                1\n",
      "                      dankmemes                6\n",
      "                      reactiongifs             2\n",
      "-----____---___       discordservers           1\n",
      "-----_____-----_____  GlobalOffensiveTrade    33\n",
      "-----fuck-----        norge                    1\n",
      "-----iMartijn-----    AskTrumpSupporters       4\n",
      "                      Politiek                 1\n",
      "                      dataisbeautiful          1\n",
      "                      politics                 1\n",
      "----F                 MobiusFF                 1\n",
      "----Jager----         Bundesliga               1\n",
      "----MXE----           Stims                    1\n",
      "----Nomad----         pics                     3\n",
      "----Val----           Warframe                 4\n",
      "----__----            Space_Colonization       1\n",
      "----___----___----__  noir                     1\n",
      "                      reactnative              1\n",
      "----____----____      RocketLeagueExchange     1\n",
      "----cutiee            enjoy                    1\n",
      "                                              ..\n",
      "zzzwillzzz            Repsneakers              1\n",
      "zzzxxc1               2meirl4meirl             1\n",
      "                      ImGoingToHellForThis     1\n",
      "                      buildapc                 1\n",
      "                      explainlikeimfive        1\n",
      "zzzxxxccc1            2007scape                1\n",
      "zzzyoitsme            IBO                      1\n",
      "zzzz13                Austin                   1\n",
      "zzzzMEzzzz            TheSilphRoad             1\n",
      "                      pokemongo                1\n",
      "zzzzaaaap             iptvgta                  1\n",
      "                      predaddit                1\n",
      "zzzzcyclops           SpaceBuckets             2\n",
      "                      microgrowery             3\n",
      "                      trees                    1\n",
      "zzzzelda              JoshuaTree               1\n",
      "                      canon                    1\n",
      "                      nationalparks            1\n",
      "                      tea                      1\n",
      "zzzzvvv               conspiracy               2\n",
      "zzzzz94               EnoughTrumpSpam          1\n",
      "                      badeconomics             1\n",
      "zzzzziamthenight      dirtykikpals             1\n",
      "zzzzzxx               Addons4Kodi              1\n",
      "                      Asterisk                 1\n",
      "                      Showerthoughts           1\n",
      "                      freepbx                  1\n",
      "                      kodi                     1\n",
      "zzzzzzzasd            pornID                   1\n",
      "zzzzzzzz414           homestuck                1\n",
      "Name: Id, Length: 2033871, dtype: int64\n",
      "finished\n"
     ]
    }
   ],
   "source": [
    "print(\"started\")\n",
    "grouped = df_posts_dropped.groupby([\"UserName\", \"SubReddit\"])[\"Id\"].count()\n",
    "print(grouped)\n",
    "print(\"finished\")"
   ]
  },
  {
   "cell_type": "markdown",
   "metadata": {},
   "source": [
    "# Conclusion"
   ]
  },
  {
   "cell_type": "code",
   "execution_count": null,
   "metadata": {
    "collapsed": true
   },
   "outputs": [],
   "source": []
  }
 ],
 "metadata": {
  "kernelspec": {
   "display_name": "Python 3",
   "language": "python",
   "name": "python3"
  },
  "language_info": {
   "codemirror_mode": {
    "name": "ipython",
    "version": 3
   },
   "file_extension": ".py",
   "mimetype": "text/x-python",
   "name": "python",
   "nbconvert_exporter": "python",
   "pygments_lexer": "ipython3",
   "version": "3.6.1"
  }
 },
 "nbformat": 4,
 "nbformat_minor": 2
}
