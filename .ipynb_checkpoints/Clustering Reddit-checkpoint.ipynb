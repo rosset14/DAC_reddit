{
 "cells": [
  {
   "cell_type": "markdown",
   "metadata": {},
   "source": [
    "Projet de Données à la Connaissance\n",
    "======\n",
    "\n",
    "## Introduction\n",
    "\n",
    "## Choix de l'algorithme de clustering\n",
    "DBSCAN \n",
    "raison du choix :\n",
    "- Non-flat geometry, \n",
    "- uneven cluster sizes\n",
    "- Très scalable\n",
    "- Nombre de clusters inconnus (vs K-means)"
   ]
  },
  {
   "cell_type": "code",
   "execution_count": 9,
   "metadata": {},
   "outputs": [],
   "source": [
    "import pandas as pd # Ouverture des données\n",
    "import numpy as np \n",
    "import gensim # Pour lire word2vec"
   ]
  },
  {
   "cell_type": "markdown",
   "metadata": {},
   "source": [
    "# Ouverture des données"
   ]
  },
  {
   "cell_type": "code",
   "execution_count": 20,
   "metadata": {},
   "outputs": [],
   "source": [
    "df_posts=pd.read_csv(\"data/reddit_posts.csv\",sep=\";\", names=['Id','UserName','SubReddit','Title','Body'], header=None,nrows =10000)\n",
    "df_comments=pd.read_csv(\"data/reddit_comments.csv\",sep=\";\", names=['UserName','SubReddit','Comment'], header=None,nrows =10000)"
   ]
  },
  {
   "cell_type": "code",
   "execution_count": 21,
   "metadata": {},
   "outputs": [
    {
     "data": {
      "text/html": [
       "<div>\n",
       "<style scoped>\n",
       "    .dataframe tbody tr th:only-of-type {\n",
       "        vertical-align: middle;\n",
       "    }\n",
       "\n",
       "    .dataframe tbody tr th {\n",
       "        vertical-align: top;\n",
       "    }\n",
       "\n",
       "    .dataframe thead th {\n",
       "        text-align: right;\n",
       "    }\n",
       "</style>\n",
       "<table border=\"1\" class=\"dataframe\">\n",
       "  <thead>\n",
       "    <tr style=\"text-align: right;\">\n",
       "      <th></th>\n",
       "      <th>UserName</th>\n",
       "      <th>SubReddit</th>\n",
       "      <th>Comment</th>\n",
       "    </tr>\n",
       "  </thead>\n",
       "  <tbody>\n",
       "    <tr>\n",
       "      <th>1</th>\n",
       "      <td>crash787</td>\n",
       "      <td>pokemontrades</td>\n",
       "      <td>Regigigas and mega alakazam</td>\n",
       "    </tr>\n",
       "    <tr>\n",
       "      <th>2</th>\n",
       "      <td>Cuntosaurous</td>\n",
       "      <td>Amd</td>\n",
       "      <td>I think we deserve more time!</td>\n",
       "    </tr>\n",
       "    <tr>\n",
       "      <th>3</th>\n",
       "      <td>dwmills</td>\n",
       "      <td>KitchenConfidential</td>\n",
       "      <td>You looking for a gig? In Oak cliff may need s...</td>\n",
       "    </tr>\n",
       "    <tr>\n",
       "      <th>4</th>\n",
       "      <td>GodsGiftInBeef</td>\n",
       "      <td>LiverpoolFC</td>\n",
       "      <td>Just asking but being a dick helped</td>\n",
       "    </tr>\n",
       "    <tr>\n",
       "      <th>5</th>\n",
       "      <td>Smeeks765</td>\n",
       "      <td>ecigclassifieds</td>\n",
       "      <td>I am interested. What is your paypal?</td>\n",
       "    </tr>\n",
       "  </tbody>\n",
       "</table>\n",
       "</div>"
      ],
      "text/plain": [
       "         UserName            SubReddit  \\\n",
       "1        crash787        pokemontrades   \n",
       "2    Cuntosaurous                  Amd   \n",
       "3         dwmills  KitchenConfidential   \n",
       "4  GodsGiftInBeef          LiverpoolFC   \n",
       "5       Smeeks765      ecigclassifieds   \n",
       "\n",
       "                                             Comment  \n",
       "1                        Regigigas and mega alakazam  \n",
       "2                     I think we deserve more time!   \n",
       "3  You looking for a gig? In Oak cliff may need s...  \n",
       "4               Just asking but being a dick helped   \n",
       "5              I am interested. What is your paypal?  "
      ]
     },
     "execution_count": 21,
     "metadata": {},
     "output_type": "execute_result"
    }
   ],
   "source": [
    "df_posts.head()\n",
    "df_comments.head()"
   ]
  },
  {
   "cell_type": "code",
   "execution_count": 19,
   "metadata": {},
   "outputs": [],
   "source": [
    "word2vec = gensim.models.KeyedVectors.load_word2vec_format(\"data/GoogleNews-vectors-negative300.bin.gz\", binary=True)"
   ]
  },
  {
   "cell_type": "markdown",
   "metadata": {},
   "source": [
    "# Première approche : Clustering des SubReddits par NLP"
   ]
  },
  {
   "cell_type": "code",
   "execution_count": null,
   "metadata": {},
   "outputs": [],
   "source": [
    "import nltk\n",
    "\n",
    "stop_words = set(stopwords.words('english'))"
   ]
  },
  {
   "cell_type": "markdown",
   "metadata": {},
   "source": [
    "# Deuxième approche : Clustering des SubReddits par Utilisateurs"
   ]
  },
  {
   "cell_type": "markdown",
   "metadata": {},
   "source": [
    "# Comparaison des clusters obtenus"
   ]
  },
  {
   "cell_type": "markdown",
   "metadata": {},
   "source": [
    "# Conclusion"
   ]
  },
  {
   "cell_type": "code",
   "execution_count": null,
   "metadata": {},
   "outputs": [],
   "source": []
  }
 ],
 "metadata": {
  "kernelspec": {
   "display_name": "Python 3",
   "language": "python",
   "name": "python3"
  },
  "language_info": {
   "codemirror_mode": {
    "name": "ipython",
    "version": 3
   },
   "file_extension": ".py",
   "mimetype": "text/x-python",
   "name": "python",
   "nbconvert_exporter": "python",
   "pygments_lexer": "ipython3",
   "version": "3.6.4"
  }
 },
 "nbformat": 4,
 "nbformat_minor": 2
}
